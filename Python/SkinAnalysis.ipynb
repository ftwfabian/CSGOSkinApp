{
 "cells": [
  {
   "cell_type": "code",
   "execution_count": 64,
   "metadata": {},
   "outputs": [],
   "source": [
    "import pandas as pd\n",
    "import numpy as np\n",
    "import sqlite3\n",
    "pd.set_option('display.max_columns', None)  # Show all columns\n",
    "pd.set_option('display.width', None)  # Use the full width of the console\n",
    "pd.set_option('display.max_colwidth', None)  # Don't truncate column contents\n",
    "pd.set_option('display.colheader_justify', 'left')  # Left-align column headers\n",
    "pd.set_option('display.precision', 6)  # Set precision for floats\n",
    "conn = sqlite3.connect(\"../CSGOSkinApp/csgo_skins.db\")\n",
    "df = pd.read_sql_query(\"SELECT * FROM Skins\", conn)\n",
    "df_stickerless = pd.read_sql_query(\"SELECT * FROM Skins Where sticker1 IS NULL\", conn)\n",
    "conn.close()"
   ]
  },
  {
   "cell_type": "code",
   "execution_count": 65,
   "metadata": {},
   "outputs": [
    {
     "name": "stdout",
     "output_type": "stream",
     "text": [
      "Index(['Id', 'Condition', 'Float', 'MarketPrice', 'Name', 'Url', 'Weapon',\n",
      "       'dateListed', 'sticker1', 'sticker2', 'sticker3', 'sticker4',\n",
      "       'sticker5'],\n",
      "      dtype='object')\n"
     ]
    }
   ],
   "source": [
    "print(df.columns)"
   ]
  },
  {
   "cell_type": "code",
   "execution_count": 66,
   "metadata": {
    "scrolled": true
   },
   "outputs": [
    {
     "name": "stdout",
     "output_type": "stream",
     "text": [
      "  Name                                             Float    MarketPrice  \\\n",
      "0               AK-47 | Ice Coaled (Minimal Wear)  0.139653  10.46        \n",
      "1                AK-47 | Head Shot (Field-Tested)  0.163770  11.39        \n",
      "2         StatTrak™ AK-47 | Cartel (Minimal Wear)  0.092423  52.33        \n",
      "3  StatTrak™ AK-47 | Blue Laminate (Minimal Wear)  0.115649  29.72        \n",
      "4               AK-47 | Leet Museo (Field-Tested)  0.180056  20.86        \n",
      "\n",
      "  sticker1                             \n",
      "0                         Liquid Fire  \n",
      "1        refrezh (Glitter) | Rio 2022  \n",
      "2        felps (Gold) | Katowice 2019  \n",
      "3             Astralis | Atlanta 2017  \n",
      "4  G2 Esports (Holo) | Stockholm 2021  \n"
     ]
    }
   ],
   "source": [
    "df = df[[\"Name\",\"Float\",\"MarketPrice\", \"sticker1\"]]\n",
    "print(df.head())"
   ]
  },
  {
   "cell_type": "code",
   "execution_count": 67,
   "metadata": {
    "editable": true,
    "slideshow": {
     "slide_type": ""
    },
    "tags": []
   },
   "outputs": [
    {
     "name": "stdout",
     "output_type": "stream",
     "text": [
      "8463 / 21606\n",
      "0.39 of skins lack stickers\n"
     ]
    }
   ],
   "source": [
    "count = 0\n",
    "countStickerless = 0\n",
    "for record in df[\"sticker1\"]:\n",
    "    if pd.isnull(record): countStickerless += 1\n",
    "    count+=1\n",
    "print(str(countStickerless) + \" / \" + str(count))\n",
    "print(str(round(countStickerless/count,2)) + \" of skins lack stickers\")"
   ]
  },
  {
   "cell_type": "code",
   "execution_count": null,
   "metadata": {},
   "outputs": [],
   "source": []
  },
  {
   "cell_type": "code",
   "execution_count": null,
   "metadata": {},
   "outputs": [],
   "source": []
  }
 ],
 "metadata": {
  "kernelspec": {
   "display_name": "Python 3 (ipykernel)",
   "language": "python",
   "name": "python3"
  },
  "language_info": {
   "codemirror_mode": {
    "name": "ipython",
    "version": 3
   },
   "file_extension": ".py",
   "mimetype": "text/x-python",
   "name": "python",
   "nbconvert_exporter": "python",
   "pygments_lexer": "ipython3",
   "version": "3.8.8"
  }
 },
 "nbformat": 4,
 "nbformat_minor": 4
}
